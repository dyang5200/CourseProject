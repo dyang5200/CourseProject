{
 "cells": [
  {
   "cell_type": "code",
   "execution_count": null,
   "metadata": {},
   "outputs": [],
   "source": [
    "import sys\r\n",
    "\r\n",
    "from os import path\r\n",
    "\r\n",
    "from ibapi import wrapper\r\n",
    "from ibapi.client import EClient\r\n",
    "from ibapi.utils import iswrapper\r\n",
    "from ibapi.commission_report import CommissionReport\r\n",
    "from ibapi.execution import Execution\r\n",
    "from ibapi.execution import ExecutionFilter\r\n",
    "from ibapi.tag_value import TagValue\r\n",
    "\r\n",
    "from ibapi.account_summary_tags import *\r\n",
    "\r\n",
    "import pickle\r\n",
    "import pandas as pd\r\n",
    "import matplotlib.pyplot as plt"
   ]
  },
  {
   "cell_type": "code",
   "execution_count": null,
   "metadata": {},
   "outputs": [],
   "source": []
  },
  {
   "cell_type": "code",
   "execution_count": null,
   "metadata": {},
   "outputs": [],
   "source": []
  }
 ],
 "metadata": {
  "kernelspec": {
   "display_name": "Python 3",
   "language": "python",
   "name": "python3"
  },
  "language_info": {
   "codemirror_mode": {
    "name": "ipython",
    "version": 3
   },
   "file_extension": ".py",
   "mimetype": "text/x-python",
   "name": "python",
   "nbconvert_exporter": "python",
   "pygments_lexer": "ipython3",
   "version": "3.7.2"
  }
 },
 "nbformat": 4,
 "nbformat_minor": 4
}