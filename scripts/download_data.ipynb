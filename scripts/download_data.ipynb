{
 "cells": [
  {
   "cell_type": "code",
   "execution_count": null,
   "metadata": {},
   "outputs": [],
   "source": [
    "import sys\n",
    "import time\n",
    "import logging\n",
    "import os.path\n",
    "import threading\n",
    "import inspect\n",
    "import argparse\n",
    "import collections\n",
    "import datetime\n",
    "\n",
    "sys.path.insert(0, \"/Jts/tws api/source/pythonclient\")\n",
    "\n",
    "from os import path\n",
    "\n",
    "from ibapi import wrapper\n",
    "from ibapi.client import EClient\n",
    "from ibapi.utils import iswrapper\n",
    "from ibapi.commission_report import CommissionReport\n",
    "from ibapi.execution import Execution\n",
    "from ibapi.execution import ExecutionFilter\n",
    "from ibapi.tag_value import TagValue\n",
    "\n",
    "from ibapi.account_summary_tags import *\n",
    "\n",
    "import pickle\n",
    "import pandas as pd\n",
    "import matplotlib.pyplot as plt"
   ]
  },
  {
   "cell_type": "code",
   "execution_count": null,
   "metadata": {},
   "outputs": [],
   "source": []
  },
  {
   "cell_type": "code",
   "execution_count": null,
   "metadata": {},
   "outputs": [],
   "source": []
  }
 ],
 "metadata": {
  "kernelspec": {
   "display_name": "Python 3",
   "language": "python",
   "name": "python3"
  },
  "language_info": {
   "codemirror_mode": {
    "name": "ipython",
    "version": 3
   },
   "file_extension": ".py",
   "mimetype": "text/x-python",
   "name": "python",
   "nbconvert_exporter": "python",
   "pygments_lexer": "ipython3",
   "version": "3.7.2"
  }
 },
 "nbformat": 4,
 "nbformat_minor": 4
}
