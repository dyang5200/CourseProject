{
 "cells": [
  {
   "cell_type": "code",
   "execution_count": null,
   "metadata": {},
   "outputs": [],
   "source": [
    "import pickle\n",
    "import numpy as np\n",
    "\n",
    "import sys\n",
    "import time\n",
    "import threading\n",
    "import logging\n",
    "import inspect\n",
    "import argparse\n",
    "import os.path\n",
    "import collections\n",
    "import datetime\n",
    "from datetime import date\n",
    "\n",
    "sys.path.insert(0, \"/Jts/tws api/source/pythonclient\")\n",
    "\n",
    "from ibapi import wrapper\n",
    "from ibapi import utils\n",
    "from ibapi.utils import iswrapper\n",
    "from ibapi.execution import Execution\n",
    "from ibapi.execution import ExecutionFilter\n",
    "from ibapi.commission_report import CommissionReport\n",
    "from ibapi.tag_value import TagValue\n",
    "from ibapi.account_summary_tags import *"
   ]
  },
  {
   "cell_type": "code",
   "execution_count": null,
   "metadata": {},
   "outputs": [],
   "source": [
    "'''\n",
    "Change from ibapi to ohlc format\n",
    "'''\n",
    "def ibapi_to_ohlc(filename, mkt_hours = False):\n",
    "    ohlc_per_symbol = {}\n",
    "    \n",
    "    data = pickle.load(open(filename, \"rb\"))\n",
    "    \n",
    "    for bar in data:\n",
    "        ts = int(bar.date)\n",
    "        ohlc_per_symbol[ts] = bar.close\n",
    "    return ohlc_per_symbol"
   ]
  },
  {
   "cell_type": "code",
   "execution_count": null,
   "metadata": {},
   "outputs": [],
   "source": [
    "'''\n",
    "Fill in zeros where data does not exist into each dictionary of data per day\n",
    "'''\n",
    "def edit_data(day_dictionary):\n",
    "    to_del = []\n",
    "    \n",
    "    for day in day_dictionary:\n",
    "        count = 0\n",
    "        num_entries = len(day_dictionary[day])\n",
    "        \n",
    "        for m in range(1, num_entries):\n",
    "            if day_dictionary[day][m][3] == 0:\n",
    "                count += 1\n",
    "                day_dictionary[day][m][0:4] = day_dictionary[day][m - 1][3]\n",
    "                \n",
    "        for m in range(1, num_entries + 1):\n",
    "            if day_dictionary[day][-m][3] == 0:\n",
    "                count += 1\n",
    "                day_dictionary[day][-m][0 : 4] = day_dictionary[day][-(m - 1)][3]\n",
    "        \n",
    "        if count > 100:\n",
    "            to_del.append(day)\n",
    "            \n",
    "    for day in to_del:\n",
    "        del day_dictionary[day]\n",
    "    return day_dictionary"
   ]
  },
  {
   "cell_type": "code",
   "execution_count": null,
   "metadata": {},
   "outputs": [],
   "source": [
    "'''\n",
    "Generate data for all stocks in `symbols` array\n",
    "'''\n",
    "symbols = ['SPY', 'GME','TSLA','GOOG','AAPL']\n",
    "all_data = {}\n",
    "for sym in symbols:\n",
    "    all_data[sym] = ibapi_to_ohlc(\"../raw_pricedata_{s}.pkl\".format(s=sym))"
   ]
  },
  {
   "cell_type": "code",
   "execution_count": null,
   "metadata": {},
   "outputs": [],
   "source": [
    "for sym in symbols:\n",
    "    f = open(\"../processed_{:s}.csv\".format(sym), \"wt\")\n",
    "    csv_string = \"\"\n",
    "    for ts in sorted(all_data[sym]):\n",
    "        csv_string += str(ts) + \", \" + str(date.fromtimestamp(ts)) + \", \" + str(all_data[sym][ts]) + \"\\n\"\n",
    "    f.write(csv_string)\n",
    "    f.close()\n",
    "    \n",
    "data = pickle.load(open(\"../raw_pricedata_SPY.pkl\", \"rb\"))\n",
    "all_data['DIA']"
   ]
  }
 ],
 "metadata": {
  "kernelspec": {
   "display_name": "Python 3",
   "language": "python",
   "name": "python3"
  },
  "language_info": {
   "codemirror_mode": {
    "name": "ipython",
    "version": 3
   },
   "file_extension": ".py",
   "mimetype": "text/x-python",
   "name": "python",
   "nbconvert_exporter": "python",
   "pygments_lexer": "ipython3",
   "version": "3.7.2"
  }
 },
 "nbformat": 4,
 "nbformat_minor": 4
}
