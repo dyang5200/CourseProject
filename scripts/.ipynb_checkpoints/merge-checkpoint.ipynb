{
 "cells": [
  {
   "cell_type": "code",
   "execution_count": 1,
   "metadata": {},
   "outputs": [],
   "source": [
    "import pandas as pd\n",
    "import numpy as np\n"
   ]
  },
  {
   "cell_type": "code",
   "execution_count": 2,
   "metadata": {},
   "outputs": [],
   "source": [
    "stocks = ['GME', 'TSLA', 'SPY', 'AAPL']\n",
    "subs = ['wallstreetbets', 'stocks', 'investing']\n",
    "columns = ['timestamp', 'price_change', 'close', 'score_change', 'raw_score']"
   ]
  },
  {
   "cell_type": "code",
   "execution_count": 4,
   "metadata": {},
   "outputs": [
    {
     "ename": "FileNotFoundError",
     "evalue": "[Errno 2] No such file or directory: 'data/reddit/data.csv'",
     "output_type": "error",
     "traceback": [
      "\u001b[0;31m---------------------------------------------------------------------------\u001b[0m",
      "\u001b[0;31mFileNotFoundError\u001b[0m                         Traceback (most recent call last)",
      "\u001b[0;32m<ipython-input-4-c2fbf62cae5e>\u001b[0m in \u001b[0;36m<module>\u001b[0;34m\u001b[0m\n\u001b[1;32m      2\u001b[0m \u001b[0;31m#     df = pd.read_csv('data/prices/%s.csv' % stocks[i], header=0)\u001b[0m\u001b[0;34m\u001b[0m\u001b[0;34m\u001b[0m\u001b[0;34m\u001b[0m\u001b[0m\n\u001b[1;32m      3\u001b[0m \u001b[0;31m#     df['p_change'] = (df['p_change'] * 100).round(decimals=4)\u001b[0m\u001b[0;34m\u001b[0m\u001b[0;34m\u001b[0m\u001b[0;34m\u001b[0m\u001b[0m\n\u001b[0;32m----> 4\u001b[0;31m     \u001b[0mdf_red\u001b[0m \u001b[0;34m=\u001b[0m \u001b[0mpd\u001b[0m\u001b[0;34m.\u001b[0m\u001b[0mread_csv\u001b[0m\u001b[0;34m(\u001b[0m\u001b[0;34m'data/reddit/data.csv'\u001b[0m\u001b[0;34m,\u001b[0m \u001b[0mheader\u001b[0m\u001b[0;34m=\u001b[0m\u001b[0;36m0\u001b[0m\u001b[0;34m)\u001b[0m\u001b[0;34m\u001b[0m\u001b[0;34m\u001b[0m\u001b[0m\n\u001b[0m\u001b[1;32m      5\u001b[0m     \u001b[0;31m# df_red.head()\u001b[0m\u001b[0;34m\u001b[0m\u001b[0;34m\u001b[0m\u001b[0;34m\u001b[0m\u001b[0m\n\u001b[1;32m      6\u001b[0m     \u001b[0mdf_red_stock\u001b[0m \u001b[0;34m=\u001b[0m \u001b[0mdf_red\u001b[0m\u001b[0;34m.\u001b[0m\u001b[0mloc\u001b[0m\u001b[0;34m[\u001b[0m\u001b[0mdf_red\u001b[0m\u001b[0;34m.\u001b[0m\u001b[0mstock\u001b[0m \u001b[0;34m==\u001b[0m \u001b[0mstocks\u001b[0m\u001b[0;34m[\u001b[0m\u001b[0mi\u001b[0m\u001b[0;34m]\u001b[0m\u001b[0;34m]\u001b[0m\u001b[0;34m\u001b[0m\u001b[0;34m\u001b[0m\u001b[0m\n",
      "\u001b[0;32m~/opt/anaconda3/lib/python3.8/site-packages/pandas/io/parsers.py\u001b[0m in \u001b[0;36mread_csv\u001b[0;34m(filepath_or_buffer, sep, delimiter, header, names, index_col, usecols, squeeze, prefix, mangle_dupe_cols, dtype, engine, converters, true_values, false_values, skipinitialspace, skiprows, skipfooter, nrows, na_values, keep_default_na, na_filter, verbose, skip_blank_lines, parse_dates, infer_datetime_format, keep_date_col, date_parser, dayfirst, cache_dates, iterator, chunksize, compression, thousands, decimal, lineterminator, quotechar, quoting, doublequote, escapechar, comment, encoding, dialect, error_bad_lines, warn_bad_lines, delim_whitespace, low_memory, memory_map, float_precision)\u001b[0m\n\u001b[1;32m    684\u001b[0m     )\n\u001b[1;32m    685\u001b[0m \u001b[0;34m\u001b[0m\u001b[0m\n\u001b[0;32m--> 686\u001b[0;31m     \u001b[0;32mreturn\u001b[0m \u001b[0m_read\u001b[0m\u001b[0;34m(\u001b[0m\u001b[0mfilepath_or_buffer\u001b[0m\u001b[0;34m,\u001b[0m \u001b[0mkwds\u001b[0m\u001b[0;34m)\u001b[0m\u001b[0;34m\u001b[0m\u001b[0;34m\u001b[0m\u001b[0m\n\u001b[0m\u001b[1;32m    687\u001b[0m \u001b[0;34m\u001b[0m\u001b[0m\n\u001b[1;32m    688\u001b[0m \u001b[0;34m\u001b[0m\u001b[0m\n",
      "\u001b[0;32m~/opt/anaconda3/lib/python3.8/site-packages/pandas/io/parsers.py\u001b[0m in \u001b[0;36m_read\u001b[0;34m(filepath_or_buffer, kwds)\u001b[0m\n\u001b[1;32m    450\u001b[0m \u001b[0;34m\u001b[0m\u001b[0m\n\u001b[1;32m    451\u001b[0m     \u001b[0;31m# Create the parser.\u001b[0m\u001b[0;34m\u001b[0m\u001b[0;34m\u001b[0m\u001b[0;34m\u001b[0m\u001b[0m\n\u001b[0;32m--> 452\u001b[0;31m     \u001b[0mparser\u001b[0m \u001b[0;34m=\u001b[0m \u001b[0mTextFileReader\u001b[0m\u001b[0;34m(\u001b[0m\u001b[0mfp_or_buf\u001b[0m\u001b[0;34m,\u001b[0m \u001b[0;34m**\u001b[0m\u001b[0mkwds\u001b[0m\u001b[0;34m)\u001b[0m\u001b[0;34m\u001b[0m\u001b[0;34m\u001b[0m\u001b[0m\n\u001b[0m\u001b[1;32m    453\u001b[0m \u001b[0;34m\u001b[0m\u001b[0m\n\u001b[1;32m    454\u001b[0m     \u001b[0;32mif\u001b[0m \u001b[0mchunksize\u001b[0m \u001b[0;32mor\u001b[0m \u001b[0miterator\u001b[0m\u001b[0;34m:\u001b[0m\u001b[0;34m\u001b[0m\u001b[0;34m\u001b[0m\u001b[0m\n",
      "\u001b[0;32m~/opt/anaconda3/lib/python3.8/site-packages/pandas/io/parsers.py\u001b[0m in \u001b[0;36m__init__\u001b[0;34m(self, f, engine, **kwds)\u001b[0m\n\u001b[1;32m    944\u001b[0m             \u001b[0mself\u001b[0m\u001b[0;34m.\u001b[0m\u001b[0moptions\u001b[0m\u001b[0;34m[\u001b[0m\u001b[0;34m\"has_index_names\"\u001b[0m\u001b[0;34m]\u001b[0m \u001b[0;34m=\u001b[0m \u001b[0mkwds\u001b[0m\u001b[0;34m[\u001b[0m\u001b[0;34m\"has_index_names\"\u001b[0m\u001b[0;34m]\u001b[0m\u001b[0;34m\u001b[0m\u001b[0;34m\u001b[0m\u001b[0m\n\u001b[1;32m    945\u001b[0m \u001b[0;34m\u001b[0m\u001b[0m\n\u001b[0;32m--> 946\u001b[0;31m         \u001b[0mself\u001b[0m\u001b[0;34m.\u001b[0m\u001b[0m_make_engine\u001b[0m\u001b[0;34m(\u001b[0m\u001b[0mself\u001b[0m\u001b[0;34m.\u001b[0m\u001b[0mengine\u001b[0m\u001b[0;34m)\u001b[0m\u001b[0;34m\u001b[0m\u001b[0;34m\u001b[0m\u001b[0m\n\u001b[0m\u001b[1;32m    947\u001b[0m \u001b[0;34m\u001b[0m\u001b[0m\n\u001b[1;32m    948\u001b[0m     \u001b[0;32mdef\u001b[0m \u001b[0mclose\u001b[0m\u001b[0;34m(\u001b[0m\u001b[0mself\u001b[0m\u001b[0;34m)\u001b[0m\u001b[0;34m:\u001b[0m\u001b[0;34m\u001b[0m\u001b[0;34m\u001b[0m\u001b[0m\n",
      "\u001b[0;32m~/opt/anaconda3/lib/python3.8/site-packages/pandas/io/parsers.py\u001b[0m in \u001b[0;36m_make_engine\u001b[0;34m(self, engine)\u001b[0m\n\u001b[1;32m   1176\u001b[0m     \u001b[0;32mdef\u001b[0m \u001b[0m_make_engine\u001b[0m\u001b[0;34m(\u001b[0m\u001b[0mself\u001b[0m\u001b[0;34m,\u001b[0m \u001b[0mengine\u001b[0m\u001b[0;34m=\u001b[0m\u001b[0;34m\"c\"\u001b[0m\u001b[0;34m)\u001b[0m\u001b[0;34m:\u001b[0m\u001b[0;34m\u001b[0m\u001b[0;34m\u001b[0m\u001b[0m\n\u001b[1;32m   1177\u001b[0m         \u001b[0;32mif\u001b[0m \u001b[0mengine\u001b[0m \u001b[0;34m==\u001b[0m \u001b[0;34m\"c\"\u001b[0m\u001b[0;34m:\u001b[0m\u001b[0;34m\u001b[0m\u001b[0;34m\u001b[0m\u001b[0m\n\u001b[0;32m-> 1178\u001b[0;31m             \u001b[0mself\u001b[0m\u001b[0;34m.\u001b[0m\u001b[0m_engine\u001b[0m \u001b[0;34m=\u001b[0m \u001b[0mCParserWrapper\u001b[0m\u001b[0;34m(\u001b[0m\u001b[0mself\u001b[0m\u001b[0;34m.\u001b[0m\u001b[0mf\u001b[0m\u001b[0;34m,\u001b[0m \u001b[0;34m**\u001b[0m\u001b[0mself\u001b[0m\u001b[0;34m.\u001b[0m\u001b[0moptions\u001b[0m\u001b[0;34m)\u001b[0m\u001b[0;34m\u001b[0m\u001b[0;34m\u001b[0m\u001b[0m\n\u001b[0m\u001b[1;32m   1179\u001b[0m         \u001b[0;32melse\u001b[0m\u001b[0;34m:\u001b[0m\u001b[0;34m\u001b[0m\u001b[0;34m\u001b[0m\u001b[0m\n\u001b[1;32m   1180\u001b[0m             \u001b[0;32mif\u001b[0m \u001b[0mengine\u001b[0m \u001b[0;34m==\u001b[0m \u001b[0;34m\"python\"\u001b[0m\u001b[0;34m:\u001b[0m\u001b[0;34m\u001b[0m\u001b[0;34m\u001b[0m\u001b[0m\n",
      "\u001b[0;32m~/opt/anaconda3/lib/python3.8/site-packages/pandas/io/parsers.py\u001b[0m in \u001b[0;36m__init__\u001b[0;34m(self, src, **kwds)\u001b[0m\n\u001b[1;32m   2006\u001b[0m         \u001b[0mkwds\u001b[0m\u001b[0;34m[\u001b[0m\u001b[0;34m\"usecols\"\u001b[0m\u001b[0;34m]\u001b[0m \u001b[0;34m=\u001b[0m \u001b[0mself\u001b[0m\u001b[0;34m.\u001b[0m\u001b[0musecols\u001b[0m\u001b[0;34m\u001b[0m\u001b[0;34m\u001b[0m\u001b[0m\n\u001b[1;32m   2007\u001b[0m \u001b[0;34m\u001b[0m\u001b[0m\n\u001b[0;32m-> 2008\u001b[0;31m         \u001b[0mself\u001b[0m\u001b[0;34m.\u001b[0m\u001b[0m_reader\u001b[0m \u001b[0;34m=\u001b[0m \u001b[0mparsers\u001b[0m\u001b[0;34m.\u001b[0m\u001b[0mTextReader\u001b[0m\u001b[0;34m(\u001b[0m\u001b[0msrc\u001b[0m\u001b[0;34m,\u001b[0m \u001b[0;34m**\u001b[0m\u001b[0mkwds\u001b[0m\u001b[0;34m)\u001b[0m\u001b[0;34m\u001b[0m\u001b[0;34m\u001b[0m\u001b[0m\n\u001b[0m\u001b[1;32m   2009\u001b[0m         \u001b[0mself\u001b[0m\u001b[0;34m.\u001b[0m\u001b[0munnamed_cols\u001b[0m \u001b[0;34m=\u001b[0m \u001b[0mself\u001b[0m\u001b[0;34m.\u001b[0m\u001b[0m_reader\u001b[0m\u001b[0;34m.\u001b[0m\u001b[0munnamed_cols\u001b[0m\u001b[0;34m\u001b[0m\u001b[0;34m\u001b[0m\u001b[0m\n\u001b[1;32m   2010\u001b[0m \u001b[0;34m\u001b[0m\u001b[0m\n",
      "\u001b[0;32mpandas/_libs/parsers.pyx\u001b[0m in \u001b[0;36mpandas._libs.parsers.TextReader.__cinit__\u001b[0;34m()\u001b[0m\n",
      "\u001b[0;32mpandas/_libs/parsers.pyx\u001b[0m in \u001b[0;36mpandas._libs.parsers.TextReader._setup_parser_source\u001b[0;34m()\u001b[0m\n",
      "\u001b[0;31mFileNotFoundError\u001b[0m: [Errno 2] No such file or directory: 'data/reddit/data.csv'"
     ]
    }
   ],
   "source": [
    "for i in range(len(stocks)):\n",
    "#     df = pd.read_csv('data/prices/%s.csv' % stocks[i], header=0)\n",
    "#     df['p_change'] = (df['p_change'] * 100).round(decimals=4)\n",
    "    df_red = pd.read_csv('data/reddit/data.csv', header=0)\n",
    "    # df_red.head()\n",
    "    df_red_stock = df_red.loc[df_red.stock == stocks[i]]\n",
    "    res = pd.merge(df, df_red_stock, how=\"inner\", on=\"timestamp\")[columns]\n",
    "    res = res.rename(columns={'p_change':'value'})\n",
    "    res.to_csv('data/merged/%s.csv' % stocks[i])"
   ]
  },
  {
   "cell_type": "code",
   "execution_count": 94,
   "metadata": {},
   "outputs": [],
   "source": [
    "\n",
    "df = pd.read_csv('data/prices/%s.csv' % stocks[0], header=0)\n",
    "df['p_change'] = (df['p_change'] * 100).round(decimals=4)\n",
    "df_red = pd.read_csv('data/reddit/data.csv', header=0)\n",
    "# df_red.head()\n",
    "df_red_stock = df_red.loc[(df_red.stock == stocks[0]) & (df_red['sub'] == subs[1])]\n",
    "res = pd.merge(df, df_red_stock, how=\"inner\", on=\"timestamp\")\n",
    "res.to_csv('test.csv')\n",
    "prices = res.close.to_numpy()\n",
    "change = np.zeros_like(prices)\n",
    "for j in range(1, len(prices)):\n",
    "    change[j] = (prices[j] - prices[j-1]) / prices[j-1] * 100\n",
    "res['change'] = change\n",
    "\n",
    "scores = res.score.to_numpy()\n",
    "score_change = np.zeros_like(scores)\n",
    "for j in range(1, len(scores)):\n",
    "    score_change[j] = (scores[j] - scores[j-1])\n",
    "res['score'] = score_change\n",
    "res = res[columns]\n",
    "res.to_csv('data/new/GME_wallstreetbets.csv')"
   ]
  },
  {
   "cell_type": "code",
   "execution_count": 21,
   "metadata": {
    "tags": []
   },
   "outputs": [],
   "source": [
    "for idx, stock in enumerate(stocks):\n",
    "    for jdx, sub in enumerate(subs):\n",
    "        # if idx != 1 or jdx != 0:\n",
    "        #     continue\n",
    "\n",
    "        df = pd.read_csv('../data/prices/%s.csv' % stock, header=0)\n",
    "        df['p_change'] = (df['p_change'] * 100).round(decimals=4)\n",
    "        df_red = pd.read_csv('../data/reddit/data.csv', header=0)\n",
    "        # df_red.head()\n",
    "        df_red_stock = df_red.loc[(df_red.stock == stock) & (df_red['sub'] == sub)]\n",
    "        res = pd.merge(df, df_red_stock, how=\"inner\", on=\"timestamp\")\n",
    "\n",
    "        prices = res.close.to_numpy()\n",
    "        change = np.zeros_like(prices)\n",
    "        for j in range(1, len(prices)):\n",
    "            change[j] = (prices[j] - prices[j-1]) / prices[j-1] * 100\n",
    "        res['price_change'] = change\n",
    "\n",
    "        pos = res.pos.to_numpy()\n",
    "        neu = res.neu.to_numpy()\n",
    "        neg = res.neg.to_numpy()\n",
    "        numer = pos - neg\n",
    "        denom = pos + neg + neu\n",
    "        raw_scores = numer/(212)*100\n",
    "        # print(raw_scores)\n",
    "        # scores = res.score.to_numpy()\n",
    "        score_change = np.zeros_like(raw_scores)\n",
    "        for j in range(1, len(score_change)):\n",
    "            score_change[j] = (raw_scores[j] - raw_scores[j-1])\n",
    "        res['score_change'] = score_change\n",
    "        res['raw_score'] = raw_scores\n",
    "        # print(res.head())\n",
    "        res = res[columns]\n",
    "        # print(res.head())\n",
    "        res['price_change'] = res['price_change'].round(decimals=2)\n",
    "        res['score_change'] = res['score_change'].round(decimals=2)\n",
    "        res['raw_score'] = res['raw_score'].round(decimals=2)\n",
    "\n",
    "        res.to_csv('../data/new/%s_%s.csv' % (stock, sub))"
   ]
  },
  {
   "cell_type": "markdown",
   "metadata": {},
   "source": [
    "Overall Sentimtent"
   ]
  },
  {
   "cell_type": "code",
   "execution_count": 20,
   "metadata": {},
   "outputs": [],
   "source": [
    "for idx, stock in enumerate(stocks):\n",
    "    for jdx, sub in enumerate(subs):\n",
    "        # if idx != 1 or jdx != 0:\n",
    "        #     continue\n",
    "\n",
    "        df = pd.read_csv('../data/prices/%s.csv' % stock, header=0)\n",
    "        df['p_change'] = (df['p_change'] * 100).round(decimals=4)\n",
    "        df_red = pd.read_csv('../data/reddit/data.csv', header=0)\n",
    "        # df_red.head()\n",
    "        df_red_stock = df_red.loc[(df_red.stock == 'no-filter') & (df_red['sub'] == sub)]\n",
    "        df_red_stock = df_red_stock.groupby('timestamp').sum()\n",
    "        res = pd.merge(df, df_red_stock, how=\"inner\", on=\"timestamp\")\n",
    "        # print(res)\n",
    "        prices = res.close.to_numpy()\n",
    "        change = np.zeros_like(prices)\n",
    "        for j in range(1, len(prices)):\n",
    "            change[j] = (prices[j] - prices[j-1]) / prices[j-1] * 100\n",
    "        res['price_change'] = change\n",
    "\n",
    "        pos = res.pos.to_numpy()\n",
    "        neu = res.neu.to_numpy()\n",
    "        neg = res.neg.to_numpy()\n",
    "        numer = pos - neg\n",
    "        denom = pos + neg + neu\n",
    "        raw_scores = numer/(212)*100\n",
    "        # print(raw_scores)\n",
    "        # scores = res.score.to_numpy()\n",
    "        score_change = np.zeros_like(raw_scores)\n",
    "        for j in range(1, len(score_change)):\n",
    "            score_change[j] = (raw_scores[j] - raw_scores[j-1])\n",
    "        res['score_change'] = score_change\n",
    "        res['raw_score'] = raw_scores\n",
    "        # print(res.head())\n",
    "        res = res[columns]\n",
    "        # print(res.head())\n",
    "        res['price_change'] = res['price_change'].round(decimals=2)\n",
    "        res['score_change'] = res['score_change'].round(decimals=2)\n",
    "        res['raw_score'] = res['raw_score'].round(decimals=2)\n",
    "        res.to_csv('../data/new/%s_overall.csv' % (stock))"
   ]
  },
  {
   "cell_type": "code",
   "execution_count": 112,
   "metadata": {},
   "outputs": [
    {
     "data": {
      "text/plain": [
       "212"
      ]
     },
     "execution_count": 112,
     "metadata": {},
     "output_type": "execute_result"
    }
   ],
   "source": [
    "df_red\n",
    "o_pos = df_red.pos.to_numpy()\n",
    "o_neu = df_red.neu.to_numpy()\n",
    "o_neg = df_red.neg.to_numpy()\n",
    "np.max(o_pos+o_neg+o_neu)"
   ]
  }
 ],
 "metadata": {
  "kernelspec": {
   "display_name": "Python 3",
   "language": "python",
   "name": "python3"
  },
  "language_info": {
   "codemirror_mode": {
    "name": "ipython",
    "version": 3
   },
   "file_extension": ".py",
   "mimetype": "text/x-python",
   "name": "python",
   "nbconvert_exporter": "python",
   "pygments_lexer": "ipython3",
   "version": "3.8.5"
  }
 },
 "nbformat": 4,
 "nbformat_minor": 2
}
